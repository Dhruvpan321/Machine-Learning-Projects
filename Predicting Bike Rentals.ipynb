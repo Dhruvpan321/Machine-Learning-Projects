{
 "cells": [
  {
   "cell_type": "markdown",
   "metadata": {},
   "source": [
    "# Predicting Bike Rentals\n",
    " \n",
    "In this project, the aim is to predict the total number of bikes being rented in an hour in the city of Washington D.C. in USA. The dataset for this can be downloaded from the University of California, Irvine's [website](http://archive.ics.uci.edu/ml/datasets/Bike+Sharing+Dataset)\n",
    "\n",
    "## Importing the libraries and the Dataset"
   ]
  },
  {
   "cell_type": "code",
   "execution_count": 1,
   "metadata": {},
   "outputs": [],
   "source": [
    "import pandas as pd\n",
    "from matplotlib import pyplot as plt\n",
    "import numpy as np\n",
    "import seaborn as sns\n",
    "from sklearn.linear_model import LinearRegression\n",
    "from sklearn.metrics import mean_squared_error\n",
    "from sklearn.tree import DecisionTreeRegressor\n",
    "from sklearn.ensemble import RandomForestRegressor\n"
   ]
  },
  {
   "cell_type": "code",
   "execution_count": 2,
   "metadata": {},
   "outputs": [
    {
     "data": {
      "text/html": [
       "<div>\n",
       "<style scoped>\n",
       "    .dataframe tbody tr th:only-of-type {\n",
       "        vertical-align: middle;\n",
       "    }\n",
       "\n",
       "    .dataframe tbody tr th {\n",
       "        vertical-align: top;\n",
       "    }\n",
       "\n",
       "    .dataframe thead th {\n",
       "        text-align: right;\n",
       "    }\n",
       "</style>\n",
       "<table border=\"1\" class=\"dataframe\">\n",
       "  <thead>\n",
       "    <tr style=\"text-align: right;\">\n",
       "      <th></th>\n",
       "      <th>instant</th>\n",
       "      <th>dteday</th>\n",
       "      <th>season</th>\n",
       "      <th>yr</th>\n",
       "      <th>mnth</th>\n",
       "      <th>hr</th>\n",
       "      <th>holiday</th>\n",
       "      <th>weekday</th>\n",
       "      <th>workingday</th>\n",
       "      <th>weathersit</th>\n",
       "      <th>temp</th>\n",
       "      <th>atemp</th>\n",
       "      <th>hum</th>\n",
       "      <th>windspeed</th>\n",
       "      <th>casual</th>\n",
       "      <th>registered</th>\n",
       "      <th>cnt</th>\n",
       "    </tr>\n",
       "  </thead>\n",
       "  <tbody>\n",
       "    <tr>\n",
       "      <th>0</th>\n",
       "      <td>1</td>\n",
       "      <td>2011-01-01</td>\n",
       "      <td>1</td>\n",
       "      <td>0</td>\n",
       "      <td>1</td>\n",
       "      <td>0</td>\n",
       "      <td>0</td>\n",
       "      <td>6</td>\n",
       "      <td>0</td>\n",
       "      <td>1</td>\n",
       "      <td>0.24</td>\n",
       "      <td>0.2879</td>\n",
       "      <td>0.81</td>\n",
       "      <td>0.0</td>\n",
       "      <td>3</td>\n",
       "      <td>13</td>\n",
       "      <td>16</td>\n",
       "    </tr>\n",
       "    <tr>\n",
       "      <th>1</th>\n",
       "      <td>2</td>\n",
       "      <td>2011-01-01</td>\n",
       "      <td>1</td>\n",
       "      <td>0</td>\n",
       "      <td>1</td>\n",
       "      <td>1</td>\n",
       "      <td>0</td>\n",
       "      <td>6</td>\n",
       "      <td>0</td>\n",
       "      <td>1</td>\n",
       "      <td>0.22</td>\n",
       "      <td>0.2727</td>\n",
       "      <td>0.80</td>\n",
       "      <td>0.0</td>\n",
       "      <td>8</td>\n",
       "      <td>32</td>\n",
       "      <td>40</td>\n",
       "    </tr>\n",
       "    <tr>\n",
       "      <th>2</th>\n",
       "      <td>3</td>\n",
       "      <td>2011-01-01</td>\n",
       "      <td>1</td>\n",
       "      <td>0</td>\n",
       "      <td>1</td>\n",
       "      <td>2</td>\n",
       "      <td>0</td>\n",
       "      <td>6</td>\n",
       "      <td>0</td>\n",
       "      <td>1</td>\n",
       "      <td>0.22</td>\n",
       "      <td>0.2727</td>\n",
       "      <td>0.80</td>\n",
       "      <td>0.0</td>\n",
       "      <td>5</td>\n",
       "      <td>27</td>\n",
       "      <td>32</td>\n",
       "    </tr>\n",
       "    <tr>\n",
       "      <th>3</th>\n",
       "      <td>4</td>\n",
       "      <td>2011-01-01</td>\n",
       "      <td>1</td>\n",
       "      <td>0</td>\n",
       "      <td>1</td>\n",
       "      <td>3</td>\n",
       "      <td>0</td>\n",
       "      <td>6</td>\n",
       "      <td>0</td>\n",
       "      <td>1</td>\n",
       "      <td>0.24</td>\n",
       "      <td>0.2879</td>\n",
       "      <td>0.75</td>\n",
       "      <td>0.0</td>\n",
       "      <td>3</td>\n",
       "      <td>10</td>\n",
       "      <td>13</td>\n",
       "    </tr>\n",
       "    <tr>\n",
       "      <th>4</th>\n",
       "      <td>5</td>\n",
       "      <td>2011-01-01</td>\n",
       "      <td>1</td>\n",
       "      <td>0</td>\n",
       "      <td>1</td>\n",
       "      <td>4</td>\n",
       "      <td>0</td>\n",
       "      <td>6</td>\n",
       "      <td>0</td>\n",
       "      <td>1</td>\n",
       "      <td>0.24</td>\n",
       "      <td>0.2879</td>\n",
       "      <td>0.75</td>\n",
       "      <td>0.0</td>\n",
       "      <td>0</td>\n",
       "      <td>1</td>\n",
       "      <td>1</td>\n",
       "    </tr>\n",
       "  </tbody>\n",
       "</table>\n",
       "</div>"
      ],
      "text/plain": [
       "   instant      dteday  season  yr  mnth  hr  holiday  weekday  workingday  \\\n",
       "0        1  2011-01-01       1   0     1   0        0        6           0   \n",
       "1        2  2011-01-01       1   0     1   1        0        6           0   \n",
       "2        3  2011-01-01       1   0     1   2        0        6           0   \n",
       "3        4  2011-01-01       1   0     1   3        0        6           0   \n",
       "4        5  2011-01-01       1   0     1   4        0        6           0   \n",
       "\n",
       "   weathersit  temp   atemp   hum  windspeed  casual  registered  cnt  \n",
       "0           1  0.24  0.2879  0.81        0.0       3          13   16  \n",
       "1           1  0.22  0.2727  0.80        0.0       8          32   40  \n",
       "2           1  0.22  0.2727  0.80        0.0       5          27   32  \n",
       "3           1  0.24  0.2879  0.75        0.0       3          10   13  \n",
       "4           1  0.24  0.2879  0.75        0.0       0           1    1  "
      ]
     },
     "execution_count": 2,
     "metadata": {},
     "output_type": "execute_result"
    }
   ],
   "source": [
    "bike_rentals = pd.read_csv(\"C:/Users/Dhruv Pandya/Desktop/books and stuff/datasets/hour.csv\")\n",
    "bike_rentals.head(5)"
   ]
  },
  {
   "cell_type": "markdown",
   "metadata": {},
   "source": [
    "The columns of the dataset are summarized below:\n",
    "\n",
    "1. <b>instant</b> - A unique sequential ID number for each row\n",
    "2. <b>dteday</b> - The date of the rentals\n",
    "3. <b>season</b> - The season in which the rentals occurred\n",
    "4. <b>yr</b> - The year the rentals occurred\n",
    "5. <b>mnth</b> - The month the rentals occurred\n",
    "6. <b>hr</b> - The hour the rentals occurred\n",
    "7. <b>holiday</b> - Whether or not the day was a holiday\n",
    "8. <b>weekday</b> - The day of the week (as a number, 0 to 7)\n",
    "9. <b>workingday</b> - Whether or not the day was a working day\n",
    "10. <b>weathersit</b> - The weather (as a categorical variable)\n",
    "11. <b>temp</b> - The temperature, on a 0-1 scale\n",
    "12. <b>atemp</b> - The adjusted temperature\n",
    "13. <b>hum</b> - The humidity, on a 0-1 scale\n",
    "14. <b>windspeed</b> - The wind speed, on a 0-1 scale\n",
    "15. <b>casual</b> - The number of casual riders (people who hadn't previously signed up with the bike sharing program)\n",
    "16. <b>registered</b> - The number of registered riders (people who had already signed up)\n",
    "17 <b>cnt</b> - The total number of bike rentals (casual + registered)\n",
    "\n",
    "## Extracting Correlations and other Information about the cnt column"
   ]
  },
  {
   "cell_type": "code",
   "execution_count": 3,
   "metadata": {},
   "outputs": [
    {
     "data": {
      "text/plain": [
       "(array([6972., 3705., 2659., 1660.,  987.,  663.,  369.,  188.,  139.,\n",
       "          37.]),\n",
       " array([  1. ,  98.6, 196.2, 293.8, 391.4, 489. , 586.6, 684.2, 781.8,\n",
       "        879.4, 977. ]),\n",
       " <BarContainer object of 10 artists>)"
      ]
     },
     "execution_count": 3,
     "metadata": {},
     "output_type": "execute_result"
    },
    {
     "data": {
      "image/png": "[encoded data removed]",
      "text/plain": [
       "<Figure size 432x288 with 1 Axes>"
      ]
     },
     "metadata": {
      "needs_background": "light"
     },
     "output_type": "display_data"
    }
   ],
   "source": [
    "plt.hist(bike_rentals['cnt'],bins=10)"
   ]
  },
  {
   "cell_type": "markdown",
   "metadata": {},
   "source": [
    "In the above graph, we can see that count of rentals for some most hours is about 100 - 400 bikes. There are very less cases that more than 800 bikes are rented in an hour."
   ]
  },
  {
   "cell_type": "code",
   "execution_count": 4,
   "metadata": {},
   "outputs": [
    {
     "data": {
      "text/plain": [
       "hum          -0.322911\n",
       "weathersit   -0.142426\n",
       "holiday      -0.030927\n",
       "weekday       0.026900\n",
       "workingday    0.030284\n",
       "windspeed     0.093234\n",
       "mnth          0.120638\n",
       "season        0.178056\n",
       "yr            0.250495\n",
       "instant       0.278379\n",
       "hr            0.394071\n",
       "atemp         0.400929\n",
       "temp          0.404772\n",
       "casual        0.694564\n",
       "registered    0.972151\n",
       "cnt           1.000000\n",
       "Name: cnt, dtype: float64"
      ]
     },
     "execution_count": 4,
     "metadata": {},
     "output_type": "execute_result"
    }
   ],
   "source": [
    "corr_matrix = bike_rentals.corr()\n",
    "corr_matrix['cnt'].sort_values()"
   ]
  },
  {
   "cell_type": "markdown",
   "metadata": {},
   "source": [
    "We have used pearson correlation above which means that a correlation value near to 1 or -1 for two columns signifies that those two columns are closely correlated. Higher the absolute value of correlation between 2 variables, more correlated are those variables. Pearson correlation reflects linear correlation between variables.\n",
    "\n",
    "It can be seen from the above output that apart from the cnt column which of course will show a correlation cofficient of 1, we have the columns registered and casual which are highly correlated with the cnt column."
   ]
  },
  {
   "cell_type": "markdown",
   "metadata": {},
   "source": [
    "## Assigning labels for hours\n",
    "We can assign labels to by grouping hours together so that the machine has an idea of how the times are related to each other. The hours 6 to 12 refer to the morning time. We use the label 1 for this. Similarly we use labels for each next 6 hour periods representing afternoon, evening and night time."
   ]
  },
  {
   "cell_type": "code",
   "execution_count": 5,
   "metadata": {},
   "outputs": [
    {
     "data": {
      "text/html": [
       "<div>\n",
       "<style scoped>\n",
       "    .dataframe tbody tr th:only-of-type {\n",
       "        vertical-align: middle;\n",
       "    }\n",
       "\n",
       "    .dataframe tbody tr th {\n",
       "        vertical-align: top;\n",
       "    }\n",
       "\n",
       "    .dataframe thead th {\n",
       "        text-align: right;\n",
       "    }\n",
       "</style>\n",
       "<table border=\"1\" class=\"dataframe\">\n",
       "  <thead>\n",
       "    <tr style=\"text-align: right;\">\n",
       "      <th></th>\n",
       "      <th>hr</th>\n",
       "      <th>time_label</th>\n",
       "    </tr>\n",
       "  </thead>\n",
       "  <tbody>\n",
       "    <tr>\n",
       "      <th>0</th>\n",
       "      <td>0</td>\n",
       "      <td>4</td>\n",
       "    </tr>\n",
       "    <tr>\n",
       "      <th>1</th>\n",
       "      <td>1</td>\n",
       "      <td>4</td>\n",
       "    </tr>\n",
       "    <tr>\n",
       "      <th>2</th>\n",
       "      <td>2</td>\n",
       "      <td>4</td>\n",
       "    </tr>\n",
       "    <tr>\n",
       "      <th>3</th>\n",
       "      <td>3</td>\n",
       "      <td>4</td>\n",
       "    </tr>\n",
       "    <tr>\n",
       "      <th>4</th>\n",
       "      <td>4</td>\n",
       "      <td>4</td>\n",
       "    </tr>\n",
       "    <tr>\n",
       "      <th>...</th>\n",
       "      <td>...</td>\n",
       "      <td>...</td>\n",
       "    </tr>\n",
       "    <tr>\n",
       "      <th>17374</th>\n",
       "      <td>19</td>\n",
       "      <td>3</td>\n",
       "    </tr>\n",
       "    <tr>\n",
       "      <th>17375</th>\n",
       "      <td>20</td>\n",
       "      <td>3</td>\n",
       "    </tr>\n",
       "    <tr>\n",
       "      <th>17376</th>\n",
       "      <td>21</td>\n",
       "      <td>3</td>\n",
       "    </tr>\n",
       "    <tr>\n",
       "      <th>17377</th>\n",
       "      <td>22</td>\n",
       "      <td>3</td>\n",
       "    </tr>\n",
       "    <tr>\n",
       "      <th>17378</th>\n",
       "      <td>23</td>\n",
       "      <td>3</td>\n",
       "    </tr>\n",
       "  </tbody>\n",
       "</table>\n",
       "<p>17379 rows × 2 columns</p>\n",
       "</div>"
      ],
      "text/plain": [
       "       hr  time_label\n",
       "0       0           4\n",
       "1       1           4\n",
       "2       2           4\n",
       "3       3           4\n",
       "4       4           4\n",
       "...    ..         ...\n",
       "17374  19           3\n",
       "17375  20           3\n",
       "17376  21           3\n",
       "17377  22           3\n",
       "17378  23           3\n",
       "\n",
       "[17379 rows x 2 columns]"
      ]
     },
     "execution_count": 5,
     "metadata": {},
     "output_type": "execute_result"
    }
   ],
   "source": [
    "def assign_label(hour):\n",
    "    if hour >= 6 and hour < 12:\n",
    "        return 1\n",
    "    elif hour >= 12 and hour < 18:\n",
    "        return 2\n",
    "    elif hour >=18 and hour <= 24:\n",
    "        return 3\n",
    "    else:\n",
    "        return 4\n",
    "bike_rentals['time_label'] = bike_rentals['hr'].apply(assign_label)\n",
    "\n",
    "bike_rentals[['hr', 'time_label']]\n"
   ]
  },
  {
   "cell_type": "markdown",
   "metadata": {},
   "source": [
    "## Error metric\n",
    "We have to use mean squared error (MSE) as the error metric as the column that we are trying to predict is continuous and MSE is an appropriate choice for continuous variables."
   ]
  },
  {
   "cell_type": "markdown",
   "metadata": {},
   "source": [
    "## Dividing the data into Test and Train sets\n",
    "We use 80 percent of the data to train our machine learning model and remaining 20 percent data as the test data."
   ]
  },
  {
   "cell_type": "code",
   "execution_count": 6,
   "metadata": {},
   "outputs": [],
   "source": [
    "sample_length = int(np.floor(0.8*len(bike_rentals)))\n",
    "indices = bike_rentals.sample(sample_length,random_state = 1).index\n",
    "train = bike_rentals.iloc[indices]\n",
    "test = bike_rentals.drop(index = indices)\n"
   ]
  },
  {
   "cell_type": "markdown",
   "metadata": {},
   "source": [
    "## Linear Regression\n",
    "As the variable that we have to predict is a continuous variable we can use linear regression to predict the cnt variables. We have to ignore the <b>casual</b> and <b>registered</b> columns because the <b>cnt</b> column is directly calculated from these columns."
   ]
  },
  {
   "cell_type": "code",
   "execution_count": 7,
   "metadata": {},
   "outputs": [
    {
     "data": {
      "text/plain": [
       "<AxesSubplot:>"
      ]
     },
     "execution_count": 7,
     "metadata": {},
     "output_type": "execute_result"
    },
    {
     "data": {
      "image/png": "[encoded data removed]",
      "text/plain": [
       "<Figure size 432x288 with 2 Axes>"
      ]
     },
     "metadata": {
      "needs_background": "light"
     },
     "output_type": "display_data"
    }
   ],
   "source": [
    "features = list(train.columns)\n",
    "features.remove('casual')\n",
    "features.remove('registered')\n",
    "corr_matrix = train[features].corr()\n",
    "\n",
    "sns.heatmap(corr_matrix)"
   ]
  },
  {
   "cell_type": "markdown",
   "metadata": {},
   "source": [
    "As we see from the above correlation matrix, we can drop one of the features from a highly correlated pair of two features. Having 2 highly correlated features such as mnth and season which have a correlation coffecient greater than 0.8 will make our linear regression model biased.\n",
    "The following columns can be dropped:\n",
    "1. <b>instant</b> as it represents the index of the entry of the record. So it has no relation in the task of predicting the cnt value. Also it shows unnecessarily high correlation with the <b>yr</b> column.\n",
    "2. <b>hr</b> column as we have already converted the data in this column to time_label which can be easily interpreted by the machine.\n",
    "3. <b>atemp</b> column as this column has a very high correlation with the temp column\n"
   ]
  },
  {
   "cell_type": "code",
   "execution_count": 8,
   "metadata": {},
   "outputs": [],
   "source": [
    "features = list(train.columns)\n",
    "features.remove('casual')\n",
    "features.remove('registered')\n",
    "features.remove('instant')\n",
    "features.remove('cnt')\n",
    "features.remove('dteday')"
   ]
  },
  {
   "cell_type": "code",
   "execution_count": 9,
   "metadata": {},
   "outputs": [],
   "source": [
    "lr = LinearRegression()\n",
    "lr.fit(train[features], train['cnt'])\n",
    "predictions = lr.predict(test[features])\n",
    "\n",
    "mse = mean_squared_error(test['cnt'], predictions)"
   ]
  },
  {
   "cell_type": "code",
   "execution_count": 10,
   "metadata": {},
   "outputs": [
    {
     "data": {
      "text/plain": [
       "17054.959463540286"
      ]
     },
     "execution_count": 10,
     "metadata": {},
     "output_type": "execute_result"
    }
   ],
   "source": [
    "mse"
   ]
  },
  {
   "cell_type": "markdown",
   "metadata": {},
   "source": [
    "The error value is very high and this may be because some of the count values are very high as compared to others"
   ]
  },
  {
   "cell_type": "code",
   "execution_count": 11,
   "metadata": {},
   "outputs": [
    {
     "data": {
      "text/plain": [
       "{'whiskers': [<matplotlib.lines.Line2D at 0x17d7577a1c0>,\n",
       "  <matplotlib.lines.Line2D at 0x17d7577a520>],\n",
       " 'caps': [<matplotlib.lines.Line2D at 0x17d7577a880>,\n",
       "  <matplotlib.lines.Line2D at 0x17d7577abe0>],\n",
       " 'boxes': [<matplotlib.lines.Line2D at 0x17d7576ae20>],\n",
       " 'medians': [<matplotlib.lines.Line2D at 0x17d7577af40>],\n",
       " 'fliers': [<matplotlib.lines.Line2D at 0x17d755d72e0>],\n",
       " 'means': []}"
      ]
     },
     "execution_count": 11,
     "metadata": {},
     "output_type": "execute_result"
    },
    {
     "data": {
      "image/png": "[encoded data removed]",
      "text/plain": [
       "<Figure size 432x576 with 1 Axes>"
      ]
     },
     "metadata": {
      "needs_background": "light"
     },
     "output_type": "display_data"
    }
   ],
   "source": [
    "plt.figure(figsize=(6,8))\n",
    "plt.boxplot(train['cnt'])"
   ]
  },
  {
   "cell_type": "markdown",
   "metadata": {},
   "source": [
    "As is visible in the above box plot, many values lie in the outlier range of the boxplot, and these outlier values can have a negative impact on the linear regression prediction model. The outlier values can have a dramatic impact on the linear regression model and hence we end up getting a very high value of our metric of measurement which in this case is mean squared error."
   ]
  },
  {
   "cell_type": "markdown",
   "metadata": {},
   "source": [
    "## Decision Tree Model\n",
    "The second model that we are going to train is a Decision tree model. We use the same features that we used in the last model, and we'll allow for the features to be selected by setting a limit on some criteria so that our model is not too sensitive to small changes and to reduce the possibility of overfitting."
   ]
  },
  {
   "cell_type": "code",
   "execution_count": 12,
   "metadata": {},
   "outputs": [
    {
     "data": {
      "text/plain": [
       "3513.713895281933"
      ]
     },
     "execution_count": 12,
     "metadata": {},
     "output_type": "execute_result"
    }
   ],
   "source": [
    "\n",
    "\n",
    "reg = DecisionTreeRegressor()\n",
    "reg.fit(train[features], train['cnt'])\n",
    "\n",
    "predictions = reg.predict(test[features])\n",
    "\n",
    "mse = mean_squared_error(test['cnt'], predictions)\n",
    "mse"
   ]
  },
  {
   "cell_type": "code",
   "execution_count": 13,
   "metadata": {},
   "outputs": [
    {
     "name": "stdout",
     "output_type": "stream",
     "text": [
      "test mse:  2950.6496352287663\n",
      "train mse: 1880.355874255372\n"
     ]
    }
   ],
   "source": [
    "# changing the max_levels to 5 \n",
    "reg = DecisionTreeRegressor(min_samples_leaf =10,max_depth=15)\n",
    "reg.fit(train[features],train['cnt'])\n",
    "predictions = reg.predict(test[features])\n",
    "\n",
    "mse = mean_squared_error(test['cnt'],predictions)\n",
    "print('test mse: ',mse)\n",
    "train_predictions = reg.predict(train[features])\n",
    "\n",
    "mse_train = mean_squared_error(train['cnt'], train_predictions)\n",
    "print('train mse:', mse_train)"
   ]
  },
  {
   "cell_type": "markdown",
   "metadata": {},
   "source": [
    "We were able to reduce the mse value from 17054 to 3559 by changing the model from linear Regression to Decision Tree. Further the mse value can be reduced by changing some parameters of the Decision tree regressor model by limiting the maximum depth of the tree to be 15 and having at least 10 samples in each leaf. This ensures that our tree is not overfitting otherwise it would perform better on the training data as compared to test data. But still the difference between the train mse value and test mse value is big and thus there is some evidence of overfitting. To overcome this, we try RandomForest prediction model."
   ]
  },
  {
   "cell_type": "markdown",
   "metadata": {},
   "source": [
    "## Random Forest Model"
   ]
  },
  {
   "cell_type": "code",
   "execution_count": 14,
   "metadata": {},
   "outputs": [
    {
     "name": "stdout",
     "output_type": "stream",
     "text": [
      "test mse:  1932.7611414612502\n",
      "train mse: 255.08818280848348\n"
     ]
    }
   ],
   "source": [
    "\n",
    "reg = RandomForestRegressor()\n",
    "reg.fit(train[features],train['cnt'])\n",
    "predictions = reg.predict(test[features])\n",
    "\n",
    "mse = mean_squared_error(test['cnt'],predictions)\n",
    "print('test mse: ',mse)\n",
    "train_predictions = reg.predict(train[features])\n",
    "\n",
    "mse_train = mean_squared_error(train['cnt'], train_predictions)\n",
    "print('train mse:', mse_train)"
   ]
  },
  {
   "cell_type": "code",
   "execution_count": 15,
   "metadata": {},
   "outputs": [
    {
     "name": "stdout",
     "output_type": "stream",
     "text": [
      "test mse:  1985.086664756097\n",
      "train mse: 444.2417212338503\n"
     ]
    }
   ],
   "source": [
    "reg = RandomForestRegressor(max_depth=15)\n",
    "reg.fit(train[features],train['cnt'])\n",
    "predictions = reg.predict(test[features])\n",
    "\n",
    "mse = mean_squared_error(test['cnt'],predictions)\n",
    "print('test mse: ',mse)\n",
    "train_predictions = reg.predict(train[features])\n",
    "\n",
    "mse_train = mean_squared_error(train['cnt'], train_predictions)\n",
    "print('train mse:', mse_train)"
   ]
  },
  {
   "cell_type": "markdown",
   "metadata": {},
   "source": [
    "Using the random Forest model, we were able to further reduce the mse value to nearly 1950 which is much better when compared to linear regression model or Decision Tree model. The Random Forest model handles overfitting and thus the test mse values tend to be better as compared to the normal Decision tree model."
   ]
  }
 ],
 "metadata": {
  "kernelspec": {
   "display_name": "Python 3",
   "language": "python",
   "name": "python3"
  },
  "language_info": {
   "codemirror_mode": {
    "name": "ipython",
    "version": 3
   },
   "file_extension": ".py",
   "mimetype": "text/x-python",
   "name": "python",
   "nbconvert_exporter": "python",
   "pygments_lexer": "ipython3",
   "version": "3.8.5"
  }
 },
 "nbformat": 4,
 "nbformat_minor": 4
}
